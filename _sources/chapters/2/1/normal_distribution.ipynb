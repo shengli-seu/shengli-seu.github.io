{
 "cells": [
  {
   "cell_type": "markdown",
   "id": "3d16cf65",
   "metadata": {},
   "source": [
    "# Normal distribution"
   ]
  },
  {
   "cell_type": "code",
   "execution_count": 28,
   "id": "905afaf1-91a1-407e-ba22-58d0e2833b87",
   "metadata": {},
   "outputs": [],
   "source": [
    "import numpy as np\n",
    "import scipy"
   ]
  },
  {
   "cell_type": "code",
   "execution_count": 29,
   "id": "b185f378-db67-4564-bdac-f45c02ec1078",
   "metadata": {},
   "outputs": [],
   "source": [
    "mu, sigma = 0.1, 2\n",
    "s = np.random.normal(mu, sigma, 100000)"
   ]
  },
  {
   "cell_type": "code",
   "execution_count": 33,
   "id": "8933a60f-f780-4043-8bdb-88d4f640cc9e",
   "metadata": {},
   "outputs": [],
   "source": [
    "def mean_confidence_interval(data, confidence=0.99999999):\n",
    "    a = 1.0 * np.array(data)\n",
    "    n = len(a)\n",
    "    m, se = np.mean(a), scipy.stats.sem(a)\n",
    "    h = se * scipy.stats.t.ppf((1 + confidence) / 2., n-1)\n",
    "    return m, m-h, m+h"
   ]
  },
  {
   "cell_type": "code",
   "execution_count": 34,
   "id": "b47f35be-6ada-4acb-a331-03e09b97e1b1",
   "metadata": {},
   "outputs": [],
   "source": [
    "m, lower, upper = mean_confidence_interval(s)"
   ]
  },
  {
   "cell_type": "code",
   "execution_count": 35,
   "id": "5e108d63-9fe7-4ec4-8a63-2e18fe35fb6a",
   "metadata": {},
   "outputs": [
    {
     "data": {
      "text/plain": [
       "(0.10239247837874413, 0.06624028944807148, 0.13854466730941678)"
      ]
     },
     "execution_count": 35,
     "metadata": {},
     "output_type": "execute_result"
    }
   ],
   "source": [
    "m, lower, upper"
   ]
  }
 ],
 "metadata": {
  "kernelspec": {
   "display_name": "Python 3 (ipykernel)",
   "language": "python",
   "name": "python3"
  },
  "language_info": {
   "codemirror_mode": {
    "name": "ipython",
    "version": 3
   },
   "file_extension": ".py",
   "mimetype": "text/x-python",
   "name": "python",
   "nbconvert_exporter": "python",
   "pygments_lexer": "ipython3",
   "version": "3.8.7"
  }
 },
 "nbformat": 4,
 "nbformat_minor": 5
}
