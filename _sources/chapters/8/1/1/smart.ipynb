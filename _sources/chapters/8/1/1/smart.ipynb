{
 "cells": [
  {
   "cell_type": "markdown",
   "metadata": {},
   "source": [
    "# Data Analysis for Smart Buildings"
   ]
  },
  {
   "cell_type": "markdown",
   "metadata": {},
   "source": [
    "## Background: UNSW Smart Campus\n",
    "\n",
    "Gain insights into the behavior of real estate usage on UNSW  through the instrumentation of IoT devices. Mainly covered areas: \n",
    "\n",
    "1. Bus queue\n",
    "2. Classroom attendance\n",
    "3. Car park\n",
    "4. Wifi"
   ]
  },
  {
   "cell_type": "markdown",
   "metadata": {},
   "source": [
    "## EE building Sensor Network\n",
    "1. Deploy a **sensor network** system based on prior work from our research group\n",
    "2. collect and cleanse sensor data from the HPD camera and beam counters installed in the Electrical Engineering building at UNSW.  \n",
    "3. Improve the estimated occupancy accuracy by **sensor fusion**.\n",
    "4. **Data visualization** is performed to answer the question of the elevator and shared study space usage."
   ]
  },
  {
   "cell_type": "code",
   "execution_count": 5,
   "metadata": {},
   "outputs": [
    {
     "data": {
      "text/html": [
       "\n",
       "        <iframe\n",
       "            width=\"600\"\n",
       "            height=\"300\"\n",
       "            src=\"./pdfs/poster.pdf\"\n",
       "            frameborder=\"0\"\n",
       "            allowfullscreen\n",
       "            \n",
       "        ></iframe>\n",
       "        "
      ],
      "text/plain": [
       "<IPython.lib.display.IFrame at 0x216ac36d8b0>"
      ]
     },
     "execution_count": 5,
     "metadata": {},
     "output_type": "execute_result"
    }
   ],
   "source": [
    "from IPython.display import IFrame\n",
    "IFrame(\"./pdfs/poster.pdf\", width=600, height=300)"
   ]
  },
  {
   "cell_type": "markdown",
   "metadata": {},
   "source": [
    "<iframe src=\"./poster.pdf\" frameborder=\"0\"  width=\"100%\" height=\"700px\"></iframe>"
   ]
  }
 ],
 "metadata": {
  "kernelspec": {
   "display_name": "Python 3.8.7 64-bit",
   "language": "python",
   "name": "python3"
  },
  "language_info": {
   "codemirror_mode": {
    "name": "ipython",
    "version": 3
   },
   "file_extension": ".py",
   "mimetype": "text/x-python",
   "name": "python",
   "nbconvert_exporter": "python",
   "pygments_lexer": "ipython3",
   "version": "3.8.7"
  },
  "orig_nbformat": 4,
  "vscode": {
   "interpreter": {
    "hash": "8e6f06b9833c4084fe10121ef5280e1dfbbe01f480e3da5e4e8f2616d48ed9a6"
   }
  }
 },
 "nbformat": 4,
 "nbformat_minor": 2
}
