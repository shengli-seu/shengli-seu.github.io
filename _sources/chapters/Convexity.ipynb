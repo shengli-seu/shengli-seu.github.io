{
 "cells": [
  {
   "cell_type": "markdown",
   "metadata": {},
   "source": [
    "# Convexity\n",
    "Adapt from [Garrett Thomas](https://ai.stanford.edu/~gwthomas/notes/convexity.pdf)"
   ]
  },
  {
   "cell_type": "markdown",
   "metadata": {},
   "source": [
    "## Convex sets\n",
    "\n",
    "A set $\\mathcal{X} \\subseteq \\R^d$ s.t. \n",
    "$$\\mathbf{y}-t(\\mathbf{y}-\\mathbf{x}) = t\\mathbf{x} + (1-t)\\mathbf{y} \\in \\mathcal{X}$$\n",
    "\n",
    "for all $\\mathbf{x}$ and $\\mathbf{y}$ and any $t \\in [0, 1]$ "
   ]
  },
  {
   "cell_type": "markdown",
   "metadata": {},
   "source": [
    "<img src=\"../images/math/convex/convex-set.png\">"
   ]
  },
  {
   "cell_type": "markdown",
   "metadata": {},
   "source": [
    "## Convex functions\n",
    "Assumption: $f : \\R^d \\to \\R$\n",
    "```{glossary}\n",
    "convex\n",
    "   $$f(t\\mathbf{x} + (1-t)\\mathbf{y})\\leq tf(\\mathbf{x}) + (1-t)f(\\mathbf{y})$$ \n",
    "\n",
    "A second term\n",
    "  An indented explanation of term2\n",
    "```"
   ]
  }
 ],
 "metadata": {
  "kernelspec": {
   "display_name": "Python 3.8.7 64-bit",
   "language": "python",
   "name": "python3"
  },
  "language_info": {
   "codemirror_mode": {
    "name": "ipython",
    "version": 3
   },
   "file_extension": ".py",
   "mimetype": "text/x-python",
   "name": "python",
   "nbconvert_exporter": "python",
   "pygments_lexer": "ipython3",
   "version": "3.8.7"
  },
  "orig_nbformat": 4,
  "vscode": {
   "interpreter": {
    "hash": "8e6f06b9833c4084fe10121ef5280e1dfbbe01f480e3da5e4e8f2616d48ed9a6"
   }
  }
 },
 "nbformat": 4,
 "nbformat_minor": 2
}
