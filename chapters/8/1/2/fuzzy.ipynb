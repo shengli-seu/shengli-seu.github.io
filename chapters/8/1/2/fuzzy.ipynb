{
 "cells": [
  {
   "cell_type": "markdown",
   "metadata": {},
   "source": [
    "# Fuzzy logic theory\n",
    "This is a large section, we only discuss rule-based techniques in this blog. <br>\n",
    "More should refer to this book: Fuzzy techniques in image processing."
   ]
  },
  {
   "cell_type": "markdown",
   "metadata": {},
   "source": [
    "## Fuzzy set\n",
    "- A fuzzy set $A \\subset Z$ is characterized by a membership function $\\mu_{A}(z)$. <br> (e.g. Z is all men; A is yong men).\n",
    "- A fuzzy set is an ordered pair: $A_{fuzzy} = \\{(z, \\mu_{A}(z)) \\mid z \\in Z, \\mu_{A}(z) \\in [0,1] \\}$\n",
    "- Membership function $\\mu_{A}(z)$ quantifies the degree of $z$ in $A$."
   ]
  },
  {
   "cell_type": "markdown",
   "metadata": {},
   "source": [
    "## Fuzzy Rule Base and Inference Engine\n",
    "Approximate an unknown I/O mapping by inference from a set of fuzzy rules (**IF-THEN**).\n",
    "\n",
    "<em> General scheme of a fuzzy inference system</em>\n"
   ]
  },
  {
   "cell_type": "markdown",
   "metadata": {},
   "source": [
    "![a](../../../../images/fuzzy/scheme.jpg)"
   ]
  }
 ],
 "metadata": {
  "kernelspec": {
   "display_name": "Python 3.8.7 64-bit",
   "language": "python",
   "name": "python3"
  },
  "language_info": {
   "codemirror_mode": {
    "name": "ipython",
    "version": 3
   },
   "file_extension": ".py",
   "mimetype": "text/x-python",
   "name": "python",
   "nbconvert_exporter": "python",
   "pygments_lexer": "ipython3",
   "version": "3.8.7"
  },
  "orig_nbformat": 4,
  "vscode": {
   "interpreter": {
    "hash": "8e6f06b9833c4084fe10121ef5280e1dfbbe01f480e3da5e4e8f2616d48ed9a6"
   }
  }
 },
 "nbformat": 4,
 "nbformat_minor": 2
}
