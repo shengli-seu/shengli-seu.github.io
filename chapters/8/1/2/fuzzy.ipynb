{
 "cells": [
  {
   "cell_type": "markdown",
   "metadata": {},
   "source": [
    "# Fuzzy logic theory\n",
    "This is a large section, we only discuss rule-based techniques in this blog. <br>\n",
    "More should refer to this book: Fuzzy techniques in image processing."
   ]
  },
  {
   "cell_type": "markdown",
   "metadata": {},
   "source": [
    "## Fuzzy set\n",
    "- A fuzzy set $A \\subset Z$ is characterized by a membership function $\\mu_{A}(z)$. <br> (e.g. Z is all men; A is yong men).\n",
    "- A fuzzy set is an ordered pair: $A_{fuzzy} = \\{(z, \\mu_{A}(z)) \\mid z \\in Z, \\mu_{A}(z) \\in [0,1] \\}$\n",
    "- Membership function $\\mu_{A}(z)$ quantifies the degree of $z$ in $A$."
   ]
  },
  {
   "cell_type": "markdown",
   "metadata": {},
   "source": [
    "## Fuzzy Rule Base and Inference Engine\n",
    "Approximate an unknown I/O mapping by inference from a set of fuzzy rules (**IF-THEN**)."
   ]
  },
  {
   "cell_type": "markdown",
   "metadata": {},
   "source": [
    "![](./scheme.jpg)\n",
    "<em> General scheme of a fuzzy inference system</em>"
   ]
  },
  {
   "cell_type": "markdown",
   "metadata": {},
   "source": [
    "## General Steps\n",
    "1. **Fuzzify the inputs** <br> map membership value([0,1]) to each pixel by the membership function.\n",
    "2. **Fuzzy logical operations** <br> combine the outputs of all *IF* operators to a single value using the appropriate logic.\n",
    "3. **Apply an implication method** <br> clip each fuzzy output of according to the result of *step2*.\n",
    "4. **Aggregation method to the clipped output fuzzy sets** <br> combine the output of each fuzzy rule.\n",
    "5. **Defuzzify the final output fuzzy set** <br> e.g. center of gravity."
   ]
  },
  {
   "cell_type": "markdown",
   "metadata": {},
   "source": [
    "Applications as [homework](https://github.com/EeToSe/image-cv/blob/main/image_analysis/hw2_fuzzy.pdf) and [solution](https://github.com/EeToSe/image-cv/blob/main/image_analysis/result/ass2/ass2-solution.pdf)\n",
    "\n",
    "## Contrast enhancement\n",
    "\n",
    "```{figure} ./member.png\n",
    "---\n",
    "scale: 100%\n",
    "figclass: margin\n",
    "---\n",
    "```\n",
    "\n",
    "```{figure} ./einstein.png\n",
    "---\n",
    "scale: 120%\n",
    "---\n",
    "<em>Look at gray hair and crossed fingers</em>\n",
    "```"
   ]
  },
  {
   "cell_type": "markdown",
   "metadata": {},
   "source": [
    "$$ v_{0} = \\frac{\\mu_{dark}(z_{0})\\times v_{d} + \\mu_{gray}(z_{0})\\times v_{g} + \\mu_{bright}(z_{0})\\times v_{b}}{\\mu_{dark}(z_{0})+\\mu_{gray}(z_{0})+\\mu_{bright}(z_{0})}$$"
   ]
  },
  {
   "cell_type": "markdown",
   "metadata": {},
   "source": [
    "## Boundary extraction\n",
    "**Step 1**: Define input and output membership functions\n",
    "![png](step1.png) \n",
    "**Step 2-4**: rule 1 and overall membership function\n",
    "```python\n",
    "mu1 = np.minimum(min(mu_zero_d2, mu_zero_d6), mu_white) # Step 2-3\n",
    "mu = np.maximum.reduce([mu1, mu2, mu3, mu4, mu5]) # Step 4\n",
    "```\n",
    "![png](step234.png)\n",
    "\n",
    "**Step5**:  centroid of gravity\n",
    "\n",
    "$$\n",
    "Z_{5}=\\frac{\\sum_{Z_{5}=0}^{255} Z_{5} \\mu\\left(Z_{5}\\right)}{\\sum_{Z_{5}=0}^{255} \\mu\\left(Z_{5}\\right)}\n",
    "$$\n",
    "\n",
    "![png](boundary.png)"
   ]
  },
  {
   "cell_type": "markdown",
   "metadata": {},
   "source": [
    "## Thresholding\n",
    "### OTSU ([code](https://github.com/EeToSe/image-cv/blob/main/myfunc/otsu.py) implementation)\n",
    "- Minimize the intra-class variance\n",
    "- Or Maximize the inter-class variance \n",
    "  \n",
    "$$ \\sigma^{2}_{b}(t) = w_{0}(t)w_{1}(t)[\\mu_{0}(t) - \\mu_{1}(t) ]^{2} $$\n",
    "\n",
    "- t - variant threshold, dividing the image intensity pixels into two classes - background and foreground;\n",
    "- $w_{0,1}(t)$ - class probability;\n",
    "- $\\mu_{0,1}(t)$ - mean intensity of the class;\n",
    "\n",
    "### Fuzzy method\n",
    "- For each tested threshold, a point is assigned to the obj/bckgrnd with the membership 0.5~1.0\n",
    "- The closer the pixel intensity to the mean of the region, the higher its membership to that region\n",
    "- The optimal threshold → the entropy in the image is minimized\n",
    "\n",
    "Average gray level for background $\\mu_{0}$ and for object $\\mu_{1}$\n",
    "\n",
    "$$\\mu_{0}=\\sum_{g=0}^{t} g H(g) / \\sum_{g=0}^{t} H(g)$$\n",
    "\n",
    "$$\\mu_{1}=\\sum_{g=t+1}^{L-1} g H(g) / \\sum_{g=t+1}^{L-1} H(g)$$\n",
    "\n",
    "Membership function of the object/background region:\n",
    "\n",
    "$$\n",
    "\\mu_{X}(x)=\\left\\{\\begin{array}{l}\n",
    "\\frac{1}{1+\\frac{\\left|x-\\mu_{0}\\right|}{C}}, x<t \\text{for background}\\\\\n",
    "\\frac{1}{1+\\frac{\\left|x-\\mu_{1}\\right|}{C}}, x \\geq t \\text{for object}\n",
    "\\end{array}\\right.\n",
    "$$\n",
    "\n",
    "Entropy\n",
    "\n",
    "$$S(\\mu_{X})=-\\mu_{X}(x) \\ln \\mu_{X}(x)-\\left[1-\\mu_{X}(x)\\right] \\ln \\left(1-\\mu_{X}(x)\\right)$$\n",
    "\n",
    "$$E(x) = \\sum_{m,n}S(\\mu_X(x_{mn}))$$\n",
    "\n",
    "![png](threshold.png)"
   ]
  }
 ],
 "metadata": {
  "kernelspec": {
   "display_name": "Python 3.8.7 64-bit",
   "language": "python",
   "name": "python3"
  },
  "language_info": {
   "codemirror_mode": {
    "name": "ipython",
    "version": 3
   },
   "file_extension": ".py",
   "mimetype": "text/x-python",
   "name": "python",
   "nbconvert_exporter": "python",
   "pygments_lexer": "ipython3",
   "version": "3.8.7"
  },
  "orig_nbformat": 4,
  "vscode": {
   "interpreter": {
    "hash": "8e6f06b9833c4084fe10121ef5280e1dfbbe01f480e3da5e4e8f2616d48ed9a6"
   }
  }
 },
 "nbformat": 4,
 "nbformat_minor": 2
}
