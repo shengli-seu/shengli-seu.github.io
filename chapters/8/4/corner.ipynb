{
 "cells": [
  {
   "cell_type": "markdown",
   "metadata": {},
   "source": [
    "# Corner Detection"
   ]
  },
  {
   "cell_type": "markdown",
   "metadata": {},
   "source": [
    "**Motivation**:  shifting a window W in any direction should give a large change in intensity.\n",
    "\n",
    "```{figure} ../../../images/corner/motivation.png\n",
    "---\n",
    "scale: 60%\n",
    "figclass: margin\n",
    "---\n",
    "```"
   ]
  }
 ],
 "metadata": {
  "language_info": {
   "name": "python"
  },
  "orig_nbformat": 4
 },
 "nbformat": 4,
 "nbformat_minor": 2
}
